{
 "cells": [
  {
   "cell_type": "markdown",
   "metadata": {},
   "source": [
    "# HlyB Atomistic All Trajectory Analysis"
   ]
  },
  {
   "cell_type": "markdown",
   "metadata": {},
   "source": [
    "## MD Analysis"
   ]
  },
  {
   "cell_type": "markdown",
   "metadata": {},
   "source": [
    "### Import Modules"
   ]
  },
  {
   "cell_type": "code",
   "execution_count": null,
   "metadata": {},
   "outputs": [],
   "source": [
    "import pandas as pd\n",
    "import matplotlib.pyplot as plt\n",
    "import numpy as np\n",
    "import seaborn as sns\n",
    "import statistics as s\n",
    "import MDAnalysis as mda"
   ]
  },
  {
   "cell_type": "markdown",
   "metadata": {},
   "source": [
    "### Helper Modules"
   ]
  },
  {
   "cell_type": "code",
   "execution_count": null,
   "metadata": {},
   "outputs": [],
   "source": [
    "# Dictionary which converts three letter code to one letter code\n",
    "convert_to_one_letter_dic = {\"ALA\":\"A\", \"ARG\":\"R\", \"ASN\":\"N\", \"ASP\":\"D\", \"CYS\":\"C\", \"GLU\":\"E\", \"GLN\":\"Q\", \"GLY\":\"G\",\\\n",
    "                            \"HSD\":\"H\", \"HIS\": \"H\", \"HSE\":\"H\", \"ILE\": \"I\", \"LEU\": \"L\", \"LYS\":\"K\", \"MET\":\"M\", \"PHE\":\"F\", \"PRO\":\"P\",\\\n",
    "                            \"SER\":\"S\", \"THR\":\"T\", \"TRP\":\"W\", \"TYR\":\"Y\", \"VAL\":\"V\"}\n",
    "def convert_to_one_letter(string):\n",
    "    amino_acid = str(string[0:3])\n",
    "    return convert_to_one_letter_dic[amino_acid]"
   ]
  },
  {
   "cell_type": "markdown",
   "metadata": {},
   "source": [
    "### Set Palette"
   ]
  },
  {
   "cell_type": "code",
   "execution_count": null,
   "metadata": {},
   "outputs": [],
   "source": [
    "palette = sns.color_palette(\"deep\")"
   ]
  },
  {
   "cell_type": "code",
   "execution_count": null,
   "metadata": {},
   "outputs": [],
   "source": [
    "blue = sns.color_palette(\"deep\")[0]\n",
    "orange = sns.color_palette(\"deep\")[1]\n",
    "green = sns.color_palette(\"deep\")[2]\n",
    "red = sns.color_palette(\"deep\")[3]\n",
    "purple = sns.color_palette(\"deep\")[4]\n",
    "brown = sns.color_palette(\"deep\")[5]\n",
    "pink = sns.color_palette(\"deep\")[6]\n",
    "grey = sns.color_palette(\"deep\")[7]\n",
    "gold = sns.color_palette(\"deep\")[8]\n",
    "turqoise = sns.color_palette(\"deep\")[9]"
   ]
  },
  {
   "cell_type": "markdown",
   "metadata": {},
   "source": [
    "### Define Universes"
   ]
  },
  {
   "cell_type": "code",
   "execution_count": null,
   "metadata": {},
   "outputs": [],
   "source": [
    "# Read trajectory\n",
    "u1 = mda.Universe(\"HlyB_traj_1_chainAB.pdb\", 'HlyB_traj_1_nowater_skip100.xtc')\n",
    "u2 = mda.Universe(\"HlyB_traj_2_chainAB.pdb\", 'HlyB_traj_2_nowater_skip100.xtc')\n",
    "u3 = mda.Universe(\"HlyB_traj_3_chainAB.pdb\", 'HlyB_traj_3_nowater_skip100.xtc')"
   ]
  },
  {
   "cell_type": "code",
   "execution_count": null,
   "metadata": {},
   "outputs": [],
   "source": [
    "labels = [\"u1\",\"u2\",\"u3\"]"
   ]
  },
  {
   "cell_type": "code",
   "execution_count": null,
   "metadata": {},
   "outputs": [],
   "source": [
    "# Check length of the trajectories\n",
    "print(len(u1.trajectory), len(u2.trajectory), len(u3.trajectory))"
   ]
  },
  {
   "cell_type": "markdown",
   "metadata": {},
   "source": [
    "### Ensemble Cluster Analysis"
   ]
  },
  {
   "cell_type": "markdown",
   "metadata": {},
   "source": [
    "This analysis only works with preselected atoms in trajectories. Only reduce number of frames to speed up calculation."
   ]
  },
  {
   "cell_type": "code",
   "execution_count": null,
   "metadata": {},
   "outputs": [],
   "source": [
    "# import modules\n",
    "from MDAnalysis.analysis import encore\n",
    "from MDAnalysis.analysis.encore.clustering import ClusteringMethod as clm"
   ]
  },
  {
   "cell_type": "code",
   "execution_count": null,
   "metadata": {},
   "outputs": [],
   "source": [
    "# Cluster\n",
    "ces0, details0 = encore.ces(ensembles=[u1,u2,u3], select=\"name CA\")"
   ]
  },
  {
   "cell_type": "code",
   "execution_count": null,
   "metadata": {},
   "outputs": [],
   "source": [
    "# Print cluster info\n",
    "cluster_collection = details0['clustering'][0]\n",
    "print(type(cluster_collection))\n",
    "print('We have found {} clusters'.format(len(cluster_collection)))"
   ]
  },
  {
   "cell_type": "code",
   "execution_count": null,
   "metadata": {},
   "outputs": [],
   "source": [
    "# k-means clustering\n",
    "km1 = clm.KMeans(12,  # no. clusters\n",
    "                 init = 'k-means++',  # default\n",
    "                 algorithm=\"auto\")    # default\n",
    "\n",
    "km2 = clm.KMeans(9,  # no. clusters\n",
    "                 init = 'k-means++',  # default\n",
    "                 algorithm=\"auto\")    # default\n",
    "\n",
    "km3 = clm.KMeans(6,  # no. clusters\n",
    "                 init = 'k-means++',  # default\n",
    "                 algorithm=\"auto\")    # default\n",
    "\n",
    "km4 = clm.KMeans(3,  # no. clusters\n",
    "                 init = 'k-means++',  # default\n",
    "                 algorithm=\"auto\")    # default\n",
    "\n"
   ]
  },
  {
   "cell_type": "code",
   "execution_count": null,
   "metadata": {},
   "outputs": [],
   "source": [
    "# Plot clustering results\n",
    "titles = ['Kmeans 12 clusters', 'Kmeans 9 clusters', 'Kmeans 6 clusters', 'Kmeans 3 clusters']\n",
    "fig2, axes = plt.subplots(1, 4, sharey=True, figsize=(15, 4))\n",
    "for i, (data, title) in enumerate(zip(ces2, titles)):\n",
    "    imi = axes[i].imshow(data, vmax=np.log(2), vmin=0)\n",
    "    axes[i].set_xticks(np.arange(3))\n",
    "    axes[i].set_xticklabels(labels)\n",
    "    axes[i].set_title(title)\n",
    "plt.yticks(np.arange(3), labels)\n",
    "cbar2 = fig2.colorbar(imi, ax=axes.ravel().tolist())\n",
    "cbar2.set_label('Jensen-Shannon divergence')\n",
    "plt.savefig(\"Ensemble Cluster K means All Trajectories.png\", dpi = 300)"
   ]
  },
  {
   "cell_type": "code",
   "execution_count": null,
   "metadata": {},
   "outputs": [],
   "source": [
    "#estimate errors\n",
    "avgs, stds = encore.ces([u1, u2, u3],\n",
    "                         select='name CA',\n",
    "                         clustering_method=km4,\n",
    "                         estimate_error=True,\n",
    "                         ncores=4)"
   ]
  },
  {
   "cell_type": "code",
   "execution_count": null,
   "metadata": {},
   "outputs": [],
   "source": [
    "avgs"
   ]
  },
  {
   "cell_type": "code",
   "execution_count": null,
   "metadata": {},
   "outputs": [],
   "source": [
    "stds"
   ]
  },
  {
   "cell_type": "markdown",
   "metadata": {},
   "source": [
    "## Protein-Substrate Contacts"
   ]
  },
  {
   "cell_type": "markdown",
   "metadata": {},
   "source": [
    "### Import Data"
   ]
  },
  {
   "cell_type": "code",
   "execution_count": null,
   "metadata": {},
   "outputs": [],
   "source": [
    "sub_df_1 = pd.read_csv(\"data/protein_sub_contacts_traj_1.csv\")\n",
    "sub_df_2 = pd.read_csv(\"data/protein_sub_contacts_traj_2.csv\")\n",
    "sub_df_3 = pd.read_csv(\"data/protein_sub_contacts_traj_3.csv\")"
   ]
  },
  {
   "cell_type": "code",
   "execution_count": null,
   "metadata": {},
   "outputs": [],
   "source": [
    "sub_frames = [sub_df_1,sub_df_2,sub_df_3]\n",
    "df_substrate = pd.concat(sub_frames, ignore_index=True)"
   ]
  },
  {
   "cell_type": "code",
   "execution_count": null,
   "metadata": {},
   "outputs": [],
   "source": [
    "df_substrate"
   ]
  },
  {
   "cell_type": "markdown",
   "metadata": {},
   "source": [
    "### Add Annotations"
   ]
  },
  {
   "cell_type": "code",
   "execution_count": null,
   "metadata": {},
   "outputs": [],
   "source": [
    "# get resids\n",
    "df_substrate[\"Substrate Joint Position\"] = df_substrate[\"Substrate Protein Type\"].astype(str) + df_substrate[\"Substrate Protein ResID\"].astype(str)\n",
    "df_substrate[\"Acceptor Joint Position\"] = df_substrate[\"Acceptor Protein Type\"].astype(str) + df_substrate[\"Acceptor Protein ResID\"].astype(str)"
   ]
  },
  {
   "cell_type": "code",
   "execution_count": null,
   "metadata": {},
   "outputs": [],
   "source": [
    " #sort values by protein position\n",
    "df_substrate.sort_values(\"Acceptor Protein ResID\", axis = 0, ascending = True, inplace = True)"
   ]
  },
  {
   "cell_type": "code",
   "execution_count": null,
   "metadata": {},
   "outputs": [],
   "source": [
    "# calculate fraction frames for interactions\n",
    "df_substrate[\"Fraction Frames\"] = df_substrate[\"#Frames\"]/7500"
   ]
  },
  {
   "cell_type": "code",
   "execution_count": null,
   "metadata": {},
   "outputs": [],
   "source": [
    "# group data\n",
    "group_sub_contact = df_substrate.groupby([\"ID\",\"Acceptor ChainID\", \"Acceptor Protein ResID\",\"Acceptor Joint Position\",\"Substrate Joint Position\"])[\"Fraction Frames\"].mean().unstack()"
   ]
  },
  {
   "cell_type": "code",
   "execution_count": null,
   "metadata": {},
   "outputs": [],
   "source": [
    "#Reset index to remove multi-indexing\n",
    "group_sub_contact.reset_index(inplace = True)"
   ]
  },
  {
   "cell_type": "code",
   "execution_count": null,
   "metadata": {},
   "outputs": [],
   "source": [
    "#sort values by protein position\n",
    "group_sub_contact.sort_values(\"Acceptor Protein ResID\", axis = 0, ascending = True, inplace = True)"
   ]
  },
  {
   "cell_type": "code",
   "execution_count": null,
   "metadata": {},
   "outputs": [],
   "source": [
    "# Apply melt\n",
    "c_melt = group_sub_contact.melt(id_vars = [\"ID\",\"Acceptor Protein ResID\", \"Acceptor Joint Position\", \"Acceptor ChainID\"], value_vars = [\"D1\",\"V2\",\"K3\",\"E4\",\"E5\",\"R6\",\"T7\",\n",
    "                                                                                                   \"A8\",\"A9\",\"S10\",\"L11\",\"L12\",\"Q13\",\n",
    "                                                                                                   \"L14\",\"S15\",\"G16\",\"N17\",\"A18\",\"S19\",\"D20\", \"F21\",\n",
    "                                                                                                   \"S22\",\"Y23\"],\n",
    "                                                                                                   value_name=\"Fraction_Frames\")"
   ]
  },
  {
   "cell_type": "markdown",
   "metadata": {},
   "source": [
    "##### Label amino acid type by colour - for later plotting"
   ]
  },
  {
   "cell_type": "markdown",
   "metadata": {},
   "source": [
    "red - negatively charged\\\n",
    "blue - positively charged\\\n",
    "green - hydrophobic\\\n",
    "pink - polar\\\n",
    "yellow - special case (cysteine, glycine, proline)"
   ]
  },
  {
   "cell_type": "code",
   "execution_count": null,
   "metadata": {},
   "outputs": [],
   "source": [
    "amino_colours = {\"D1\":\"red\",\"V2\":\"green\",\"K3\":\"blue\",\"E4\":\"red\",\"E5\":\"red\",\"R6\":\"blue\",\"T7\":\"pink\",\"A8\":\"green\",\\\n",
    "                \"A9\":\"green\",\"S10\": \"pink\",\"L11\": \"green\",\"L12\":\"green\",\"Q13\": \"pink\",\"L14\":\"green\",\"S15\":\"pink\",\\\n",
    "                 \"G16\":\"yellow\",\"N17\":\"pink\", \"A18\":\"green\",\"S19\":\"pink\",\"D20\":\"red\",\"F21\":\"green\",\"S22\":\"pink\",\\\n",
    "                 \"Y23\":\"green\"}\n",
    "def apply_amino_colour(string):\n",
    "    return str(amino_colours[string])"
   ]
  },
  {
   "cell_type": "code",
   "execution_count": null,
   "metadata": {},
   "outputs": [],
   "source": [
    "amino_type = {\"D1\":\"negative charge\",\"V2\":\"hydrophobic\",\"K3\":\"positive charge\",\"E4\":\"negative charge\",\\\n",
    "              \"E5\":\"negative charge\",\"R6\":\"positive charge\",\"T7\":\"polar\",\"A8\":\"hydrophobic\",\"A9\":\"hydrophobic\",\\\n",
    "              \"S10\": \"polar\",\"L11\": \"hydrophobic\",\"L12\":\"hydrophobic\",\"Q13\": \"polar\",\"L14\":\"hydrophobic\",\\\n",
    "              \"S15\":\"polar\",\"G16\":\"polar\",\"N17\":\"polar\", \"A18\":\"hydrophobic\",\"S19\":\"polar\",\"D20\":\"negative charge\",\\\n",
    "              \"F21\":\"hydrophobic\",\"S22\":\"polar\",\"Y23\":\"hydrophobic\"}\n",
    "def apply_amino_type(string):\n",
    "    return str(amino_type[string])"
   ]
  },
  {
   "cell_type": "code",
   "execution_count": null,
   "metadata": {},
   "outputs": [],
   "source": [
    "# Apply colours\n",
    "c_melt[\"Substrate Color Column\"] = c_melt[\"Substrate Joint Position\"].apply(apply_amino_colour)\n",
    "c_melt[\"Substrate Type Column\"] = c_melt[\"Substrate Joint Position\"].apply(apply_amino_type)"
   ]
  },
  {
   "cell_type": "code",
   "execution_count": null,
   "metadata": {},
   "outputs": [],
   "source": [
    "#remove nan values for comparing to lipid interactions/bokeh\n",
    "c_melt_nonan = c_melt.dropna(inplace = False)"
   ]
  },
  {
   "cell_type": "code",
   "execution_count": null,
   "metadata": {},
   "outputs": [],
   "source": [
    "# remove small values for plotting\n",
    "c_melt_remove = c_melt[c_melt[\"Fraction_Frames\"] >= 0.05]\n",
    "c_melt_nonan_remove = c_melt_nonan[c_melt_nonan[\"Fraction_Frames\"] >= 0.05]"
   ]
  },
  {
   "cell_type": "code",
   "execution_count": null,
   "metadata": {},
   "outputs": [],
   "source": [
    "# sort again otherwise x axis won't be correct!\n",
    "c_melt_nonan_remove.sort_values(\"Acceptor Protein ResID\", axis = 0, ascending = True, inplace = True) # small values and nans removed\n",
    "c_melt_remove.sort_values(\"Acceptor Protein ResID\", axis = 0, ascending = True, inplace = True) # small values removed"
   ]
  },
  {
   "cell_type": "markdown",
   "metadata": {},
   "source": [
    "### Exploratory Plots"
   ]
  },
  {
   "cell_type": "code",
   "execution_count": null,
   "metadata": {},
   "outputs": [],
   "source": [
    "# Interactions by ID\n",
    "chain_C_fig = sns.catplot(x=\"Acceptor Joint Position\", y=\"Fraction_Frames\", hue='ID', data=c_melt_remove, height = 5, aspect = 10).fig;  \n",
    "chain_C_fig.savefig(\"Substrate Interactions by ID.png\", dpi = 300)"
   ]
  },
  {
   "cell_type": "code",
   "execution_count": null,
   "metadata": {},
   "outputs": [],
   "source": [
    "# Interactions by ID - boxplot\n",
    "chain_C_fig = sns.catplot(x=\"Acceptor Joint Position\", y=\"Fraction_Frames\", hue='ID', kind='box', data=c_melt_remove, height = 5, aspect = 15).fig;  \n",
    "chain_C_fig.savefig(\"Substrate Interactions by ID boxplot.png\", dpi = 300)"
   ]
  },
  {
   "cell_type": "code",
   "execution_count": null,
   "metadata": {},
   "outputs": [],
   "source": [
    "# Interactions by sub type\n",
    "chain_C_fig_type = sns.catplot(x=\"Acceptor Joint Position\", y=\"Fraction_Frames\", hue='Substrate Type Column', data=c_melt_remove, height = 5, aspect = 10).fig;  \n",
    "chain_C_fig_type.savefig(\"Substrate Interactions by amino acid type.png\", dpi = 300)"
   ]
  },
  {
   "cell_type": "code",
   "execution_count": null,
   "metadata": {},
   "outputs": [],
   "source": [
    "# Interactions by sub type - boxplot\n",
    "chain_C_fig_type = sns.catplot(x=\"Acceptor Joint Position\", y=\"Fraction_Frames\", hue='Substrate Type Column', kind='box', data=c_melt_remove, height = 5, aspect = 15).fig;  \n",
    "chain_C_fig_type.savefig(\"Substrate Interactions by amino acid type boxplot.png\", dpi = 300)"
   ]
  },
  {
   "cell_type": "code",
   "execution_count": null,
   "metadata": {},
   "outputs": [],
   "source": [
    "# add order\n",
    "chain_C_fig_type = sns.catplot(x=\"Acceptor Joint Position\", y=\"Fraction_Frames\", \n",
    "                               hue='Substrate Type Column', kind='box', data=c_melt_remove,\n",
    "                               order=['S3','C4','H5','K6','I7','Y9','T39','G40','L41','G42','L43',\n",
    "                                     'T44','K61','W77','E79','D80','G81','H83','S245','R247','G249',\n",
    "                                     'D250','V252','A253','R256','F323','N326','A327','D328','Q330',\n",
    "                                     'S331','V334','E335','R443','K478','P479','D480','S481','P482',\n",
    "                                     'V483','L555','N556','R557','F587','E590','L591','R592','E593',\n",
    "                                     'N596','T597','I598','V599','G600','E601','Q602','G605','E639',\n",
    "                                     'K678'],\n",
    "                               height = 5, aspect = 15).fig;   \n",
    "chain_C_fig_type.savefig(\"Substrate Interactions by amino acid type boxplot ordered correct.png\", dpi = 300)"
   ]
  },
  {
   "cell_type": "markdown",
   "metadata": {},
   "source": [
    "### Plots for Thesis"
   ]
  },
  {
   "cell_type": "code",
   "execution_count": null,
   "metadata": {},
   "outputs": [],
   "source": [
    "# set palette dic\n",
    "palette_dic = {\"negative charge\":blue, \"positive charge\":orange,\"polar\":green,\"hydrophobic\":red}"
   ]
  },
  {
   "cell_type": "code",
   "execution_count": null,
   "metadata": {},
   "outputs": [],
   "source": [
    "# use palette for correct colours\n",
    "chain_C_fig_type = sns.catplot(x=\"Acceptor Joint Position\", y=\"Fraction_Frames\", \n",
    "                               hue='Substrate Type Column', kind='box', data=c_melt_remove,\n",
    "                               order=['S3','C4','H5','K6','I7','Y9','T39','G40','L41','G42','L43',\n",
    "                                     'T44','K61','W77','E79','D80','G81','H83','S245','R247','G249',\n",
    "                                     'D250','V252','A253','R256','F323','N326','A327','D328','Q330',\n",
    "                                     'S331','V334','E335','R443','K478','P479','D480','S481','P482',\n",
    "                                     'V483','L555','N556','R557','F587','E590','L591','R592','E593',\n",
    "                                     'N596','T597','I598','V599','G600','E601','Q602','G605','E639',\n",
    "                                     'K678'],\n",
    "                               palette=palette_dic,\n",
    "                               height = 5, aspect = 15).fig;\n",
    "plt.xlabel('Protein Residue')\n",
    "plt.ylabel('Fraction Frames')\n",
    "chain_C_fig_type.savefig(\"Substrate Interactions by amino acid type boxplot ordered.png\", dpi = 300)"
   ]
  },
  {
   "cell_type": "code",
   "execution_count": null,
   "metadata": {},
   "outputs": [],
   "source": [
    "# show chains only\n",
    "chain_C_fig_type = sns.catplot(x=\"Acceptor Joint Position\", y=\"Fraction_Frames\", \n",
    "                               hue='Acceptor ChainID', kind='box', data=c_melt_remove,\n",
    "                               order=['S3','C4','H5','K6','I7','Y9','T39','G40','L41','G42','L43',\n",
    "                                     'T44','K61','W77','E79','D80','G81','H83','S245','R247','G249',\n",
    "                                     'D250','V252','A253','R256','F323','N326','A327','D328','Q330',\n",
    "                                     'S331','V334','E335','R443','K478','P479','D480','S481','P482',\n",
    "                                     'V483','L555','N556','R557','F587','E590','L591','R592','E593',\n",
    "                                     'N596','T597','I598','V599','G600','E601','Q602','G605','E639',\n",
    "                                     'K678'],\n",
    "                               height = 5, aspect = 15).fig;\n",
    "plt.xlabel('Protein Residue')\n",
    "plt.ylabel('Fraction Frames')\n",
    "chain_C_fig_type.savefig(\"Substrate Interactions by chain boxplot ordered.png\", dpi = 300)"
   ]
  },
  {
   "cell_type": "code",
   "execution_count": null,
   "metadata": {},
   "outputs": [],
   "source": [
    "# assign trajectories\n",
    "c_melt_remove = c_melt_remove.assign(Trajectory=c_melt_remove.ID.map({'HlyB Closed Atomistic': \"u1\", 'HlyB Closed Atomistic Repeat': \"u2\", 'HlyB Closed Atomistic Repeat 2': 'u3'}))"
   ]
  },
  {
   "cell_type": "code",
   "execution_count": null,
   "metadata": {},
   "outputs": [],
   "source": [
    "# plot by ID\n",
    "chain_C_fig_type = sns.catplot(x=\"Acceptor Joint Position\", y=\"Fraction_Frames\", \n",
    "                               hue='ID', kind='box', data=c_melt_remove,\n",
    "                               order=['S3','C4','H5','K6','I7','Y9','T39','G40','L41','G42','L43',\n",
    "                                     'T44','K61','W77','E79','D80','G81','H83','S245','R247','G249',\n",
    "                                     'D250','V252','A253','R256','F323','N326','A327','D328','Q330',\n",
    "                                     'S331','V334','E335','R443','K478','P479','D480','S481','P482',\n",
    "                                     'V483','L555','N556','R557','F587','E590','L591','R592','E593',\n",
    "                                     'N596','T597','I598','V599','G600','E601','Q602','G605','E639',\n",
    "                                     'K678'],\n",
    "                               height = 5, aspect = 15).fig;\n",
    "chain_C_fig_type.savefig(\"Substrate Interactions by ID boxplot ordered rename.png\", dpi = 300)"
   ]
  },
  {
   "cell_type": "code",
   "execution_count": null,
   "metadata": {},
   "outputs": [],
   "source": [
    "# plot by trajectory\n",
    "chain_C_fig_type = sns.catplot(x=\"Acceptor Joint Position\", y=\"Fraction_Frames\", \n",
    "                               hue='Trajectory', kind='box', data=c_melt_remove,\n",
    "                               order=['K6','Y9','T39','G40','L41','G42','L43','E79','D80',\n",
    "                                      'G81','R247','G249','A253','R256','F323','A327','Q330',\n",
    "                                     'S331','V334','N556','R557','R592','I598','E601'],\n",
    "                               height = 5, aspect = 3).fig; \n",
    "plt.xlabel('ResID')\n",
    "plt.ylabel('Fraction Frames')\n",
    "chain_C_fig_type.savefig(\"Consensus Substrate Interactions by trajectory boxplot correct.png\", dpi = 300)"
   ]
  },
  {
   "cell_type": "code",
   "execution_count": null,
   "metadata": {},
   "outputs": [],
   "source": [
    "# plot by interaction consensus\n",
    "chain_C_fig_type = sns.catplot(x=\"Acceptor Joint Position\", y=\"Fraction_Frames\", \n",
    "                               hue='Acceptor ChainID', kind='box', data=c_melt_remove,\n",
    "                               order=['K6','Y9','T39','G40','L41','G42','L43','E79','D80',\n",
    "                                      'G81','R247','G249','A253','R256','F323','A327','Q330',\n",
    "                                     'S331','V334','N556','R557','R592','I598','E601'],\n",
    "                               height = 5, aspect = 3).fig;  \n",
    "plt.xlabel('ResID')\n",
    "plt.ylabel('Fraction Frames')\n",
    "chain_C_fig_type.savefig(\"Consensus Substrate Interactions by chain boxplot ordered correct.png\", dpi = 300)"
   ]
  },
  {
   "cell_type": "code",
   "execution_count": null,
   "metadata": {},
   "outputs": [],
   "source": [
    "# plot by interaction consensus\n",
    "chain_C_fig_type = sns.catplot(x=\"Acceptor Joint Position\", y=\"Fraction_Frames\", \n",
    "                               hue='Substrate Type Column', kind='box', data=c_melt_remove,\n",
    "                               order=['K6','Y9','T39','G40','L41','G42','L43','E79','D80',\n",
    "                                      'G81','R247','G249','A253','R256','F323','A327','Q330',\n",
    "                                     'S331','V334','N556','R557','R592','I598','E601'],\n",
    "                               palette=palette_dic,\n",
    "                               height = 5, aspect = 3).fig; \n",
    "plt.xlabel('ResID')\n",
    "plt.ylabel('Fraction Frames')\n",
    "chain_C_fig_type.savefig(\"Consensus Substrate Interactions by sub type boxplot ordered correct.png\", dpi = 300)"
   ]
  },
  {
   "cell_type": "markdown",
   "metadata": {},
   "source": [
    "### Bokeh Plot"
   ]
  },
  {
   "cell_type": "code",
   "execution_count": null,
   "metadata": {},
   "outputs": [],
   "source": [
    "from bokeh.plotting import Figure, output_notebook, show, save\n",
    "from bokeh.models import ColumnDataSource, HoverTool, GroupFilter, CDSView\n",
    "from bokeh.models import BoxSelectTool\n",
    "\n",
    "output_notebook()"
   ]
  },
  {
   "cell_type": "code",
   "execution_count": null,
   "metadata": {},
   "outputs": [],
   "source": [
    "c_data = ColumnDataSource(c_melt_nonan_remove)\n",
    "\n",
    "c_int = Figure(tools='pan,wheel_zoom,box_zoom,reset', tooltips=[('ID','@{ID}'),('Chain', '@{Acceptor ChainID}'),('Sub', '@{Substrate Joint Position}'), ('Acceptor', '@{Acceptor Joint Position}')], width=2000, height=300, x_axis_label = \"Acceptor Position\", y_axis_label = \"Fraction Frames\")\n",
    "c_int.scatter(source=c_data, x='Acceptor Protein ResID', y='Fraction_Frames', \\\n",
    "                  fill_color='Substrate Color Column', size=5)\n",
    "c_int.add_tools(BoxSelectTool(dimensions=\"width\"))\n",
    "\n",
    "show(c_int);"
   ]
  },
  {
   "cell_type": "markdown",
   "metadata": {},
   "source": [
    "##### Save Bokeh Plot"
   ]
  },
  {
   "cell_type": "code",
   "execution_count": null,
   "metadata": {},
   "outputs": [],
   "source": [
    "save(c_int, filename='data/Substrate Interactions Bokeh', resources='inline', title='Substrate Interactions');"
   ]
  }
 ],
 "metadata": {
  "kernelspec": {
   "display_name": "Python 3 (ipykernel)",
   "language": "python",
   "name": "python3"
  },
  "language_info": {
   "codemirror_mode": {
    "name": "ipython",
    "version": 3
   },
   "file_extension": ".py",
   "mimetype": "text/x-python",
   "name": "python",
   "nbconvert_exporter": "python",
   "pygments_lexer": "ipython3",
   "version": "3.10.9"
  }
 },
 "nbformat": 4,
 "nbformat_minor": 4
}
